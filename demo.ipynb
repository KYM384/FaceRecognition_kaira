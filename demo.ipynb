{
 "metadata": {
  "language_info": {
   "codemirror_mode": {
    "name": "ipython",
    "version": 3
   },
   "file_extension": ".py",
   "mimetype": "text/x-python",
   "name": "python",
   "nbconvert_exporter": "python",
   "pygments_lexer": "ipython3",
   "version": "3.7.7-final"
  },
  "orig_nbformat": 2,
  "kernelspec": {
   "name": "python3",
   "display_name": "Python 3.7.7 64-bit",
   "metadata": {
    "interpreter": {
     "hash": "24eedf78315c5abf7d54c938a93ebe86b8c8bef871e7f0c483643461669136c8"
    }
   }
  }
 },
 "nbformat": 4,
 "nbformat_minor": 2,
 "cells": [
  {
   "source": [
    "# 私は"
   ],
   "cell_type": "markdown",
   "metadata": {}
  },
  {
   "cell_type": "code",
   "execution_count": null,
   "metadata": {},
   "outputs": [],
   "source": [
    "!git clone https://github.com/KYM384/FaceRecognition_kaira\n",
    "%cd FaceRecognition_kaira"
   ]
  },
  {
   "cell_type": "code",
   "execution_count": null,
   "metadata": {},
   "outputs": [],
   "source": [
    "from google.colab import files\n",
    "files.upload()\n",
    "\n",
    "\n",
    "from IPython.display import display, HTML, display_png, Image\n",
    "from recognize import Recognize\n",
    "import cv2\n",
    "import os\n",
    "\n",
    "def main(file_name):\n",
    "    rec = Recognize()\n",
    "    img = cv2.imread(file_name)\n",
    "\n",
    "    if img is None:\n",
    "        return \"<h3>画像を取得できませんでした。</h3>\"\n",
    "\n",
    "    results = rec.recognize(img)\n",
    "    if results is None:\n",
    "        return \"<h3>顔を検出できませんでした。</h3>\"\n",
    "\n",
    "    html = \"<h1>結果</h1>\\n\"\n",
    "\n",
    "    face, scores = results\n",
    "    face = cv2.resize(face, (256, 256))\n",
    "    cv2.imwrite(f\"tmp.png\", face)\n",
    "    display_png(Image(\"tmp.png\"))\n",
    "\n",
    "    html = \"検出された顔<br><h1>結果</h1>\"\n",
    "\n",
    "    for i, score in enumerate(scores):\n",
    "        name, score = score\n",
    "        \n",
    "        html += f\"<h2>{i+1}.{name}</h2> score: {score:.5f}<br>\"\n",
    "\n",
    "    return html\n",
    "\n",
    "file_list = {path : os.stat(path).st_mtime for path in os.listdir(\".\")}\n",
    "file_list = sorted(file_list, key=file_list.get)\n",
    "\n",
    "for file_name in file_list[::-1]:\n",
    "  if \".\" in file_name:\n",
    "    file_uploaded = file_name\n",
    "    break\n",
    "\n",
    "result = main(file_uploaded)\n",
    "\n",
    "display(HTML(result))"
   ]
  }
 ]
}