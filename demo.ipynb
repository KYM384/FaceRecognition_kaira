{
 "metadata": {
  "language_info": {
   "codemirror_mode": {
    "name": "ipython",
    "version": 3
   },
   "file_extension": ".py",
   "mimetype": "text/x-python",
   "name": "python",
   "nbconvert_exporter": "python",
   "pygments_lexer": "ipython3",
   "version": "3.7.7-final"
  },
  "orig_nbformat": 2,
  "kernelspec": {
   "name": "python3",
   "display_name": "Python 3.7.7 64-bit",
   "metadata": {
    "interpreter": {
     "hash": "24eedf78315c5abf7d54c938a93ebe86b8c8bef871e7f0c483643461669136c8"
    }
   }
  }
 },
 "nbformat": 4,
 "nbformat_minor": 2,
 "cells": [
  {
   "source": [
    "### 使い方①\n",
    "下の`!git clone ~`と書かれているセルの左の三角ボタンをクリックして実行してください。**警告**と表示されますが、「このまま実行」をクリックしてください。一番最後の行に`/content/FaceRecognition_kaira`と表示されれば問題ありません。\n",
    "\n",
    "<br>\n",
    "\n",
    "Click the triangle button to the left of the cell that says `!git clone ~` below to run it. **Warnings** will be displayed, but click \"Run as is\". If you see `/content/FaceRecognition_kaira` on the very last line, it is OK."
   ],
   "cell_type": "markdown",
   "metadata": {}
  },
  {
   "cell_type": "code",
   "execution_count": null,
   "metadata": {},
   "outputs": [],
   "source": [
    "!git clone https://github.com/KYM384/FaceRecognition_kaira\n",
    "%cd FaceRecognition_kaira"
   ]
  },
  {
   "source": [
    "### 使い方②\n",
    "次に下のセルを実行してください。「ファイルを選択」と表示されるので、それをクリックしてご自身のコンピュータから使用したい画像を選んでください。画像サイズが大きいと処理に時間がかかります。\n",
    "\n",
    "**「No such file: '○○○○'」**と表示される場合はアップロードが上手く行っていないか、ファイルが正常でない可能性があります。もう一度下のセルを実行して試すか、拡張子がちゃんと付いているか確認してください。ファイル名に日本語(全角文字)が含まれる場合も上手く行かない場合があります。\n",
    "\n",
    "**「No face found」**と表示される場合は顔検出が上手く行っていません。画像を拡大・トリミングするか、違う画像でお試しください。\n",
    "\n",
    "別の人物の顔が表示されたり、顔でない部分が表示される場合も顔検出が上手く行っていないため、上記と同様に対処してみてください。\n",
    "\n",
    "<br>\n",
    "\n",
    "Next, run the cell below. Click on the \"Choose File\" button and select the image you want to use from your computer. If the image size is large, it will take longer to process.\n",
    "\n",
    "If the message **\"No such file: '○○○○'**\" is displayed, the upload may not have been successful or the file may not be valid. Please try again or check that the file extension is valid. If the file name contains Japanese characters (double-byte characters), it may not work either.\n",
    "\n",
    "If the message **\"No face found \"** is displayed, the face detection is not working properly. Please enlarge or crop the image, or try a different image.\n",
    "\n",
    "If a different person's face is displayed or a non-face part is displayed, the face detection is not working properly, please try the same as above."
   ],
   "cell_type": "markdown",
   "metadata": {}
  },
  {
   "cell_type": "code",
   "execution_count": null,
   "metadata": {},
   "outputs": [],
   "source": [
    "from google.colab import files\n",
    "files.upload()\n",
    "\n",
    "\n",
    "from IPython.display import display, HTML, display_png, Image\n",
    "from recognize import Recognize\n",
    "import cv2\n",
    "import os\n",
    "\n",
    "def main(file_name):\n",
    "    rec = Recognize()\n",
    "    img = cv2.imread(file_name)\n",
    "\n",
    "    if img is None:\n",
    "        return f\"<h3>No such file: '{args.image}'</h3>\"\n",
    "\n",
    "    results = rec.recognize(img)\n",
    "    if results is None:\n",
    "        return \"<h3>No face found</h3>\"\n",
    "\n",
    "    face, scores = results\n",
    "    face = cv2.resize(face, (256, 256))\n",
    "    cv2.imwrite(f\"tmp.png\", face)\n",
    "    display_png(Image(\"tmp.png\"))\n",
    "\n",
    "    html = \"Detected face<br><h1>Results</h1>\"\n",
    "\n",
    "    for i, score in enumerate(scores):\n",
    "        name, score = score\n",
    "        \n",
    "        html += f\"<h2>{i+1}.{name}</h2> score: {score:.5f}<br>\"\n",
    "\n",
    "    return html\n",
    "\n",
    "file_list = {path : os.stat(path).st_mtime for path in os.listdir(\".\")}\n",
    "file_list = sorted(file_list, key=file_list.get)\n",
    "\n",
    "for file_name in file_list[::-1]:\n",
    "  if \".\" in file_name:\n",
    "    file_uploaded = file_name\n",
    "    break\n",
    "\n",
    "result = main(file_uploaded)\n",
    "\n",
    "display(HTML(result))"
   ]
  }
 ]
}